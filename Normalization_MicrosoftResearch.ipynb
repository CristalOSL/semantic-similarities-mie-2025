{
  "nbformat": 4,
  "nbformat_minor": 0,
  "metadata": {
    "colab": {
      "provenance": []
    },
    "kernelspec": {
      "name": "python3",
      "display_name": "Python 3"
    },
    "language_info": {
      "name": "python"
    }
  },
  "cells": [
    {
      "cell_type": "code",
      "source": [
        "from google.colab import files\n",
        "import pandas as pd\n",
        "\n",
        "df = pd.read_csv('microsoft.csv')\n",
        "\n",
        "# Estrai i valori unici dalla colonna 'Cosine Similarity' e ordina in ordine decrescente\n",
        "unique_values = sorted(df['Cosine Similarity'].unique(), reverse=True)\n",
        "\n",
        "# Visualizza i valori unici ordinati\n",
        "print(unique_values)"
      ],
      "metadata": {
        "colab": {
          "base_uri": "https://localhost:8080/"
        },
        "id": "gv_MF3Eim0lD",
        "outputId": "c7d84c4d-f587-4a6b-da23-c1cecd4b1c3e"
      },
      "execution_count": null,
      "outputs": [
        {
          "output_type": "stream",
          "name": "stdout",
          "text": [
            "[1.0, 0.99, 0.98, 0.97, 0.96, 0.95, 0.94, 0.93]\n"
          ]
        }
      ]
    },
    {
      "cell_type": "code",
      "source": [
        "import pandas as pd\n",
        "\n",
        "# Leggi il file CSV\n",
        "df = pd.read_csv('microsoft.csv')\n",
        "\n",
        "# Raggruppa per 'Cosine Similarity' e conta le occorrenze\n",
        "value_counts = df['Cosine Similarity'].value_counts().sort_index(ascending=False)\n",
        "\n",
        "# Visualizza i valori unici e il numero di ripetizioni\n",
        "for value, count in value_counts.items():\n",
        "    print(f\"Valore: {value}\")\n",
        "    print(f\"Ripetizioni: {count}\\n\")"
      ],
      "metadata": {
        "colab": {
          "base_uri": "https://localhost:8080/"
        },
        "id": "m9w0Vbm1nZ5d",
        "outputId": "8c26e2cb-fb5c-4a24-c705-203fc45d7b57"
      },
      "execution_count": null,
      "outputs": [
        {
          "output_type": "stream",
          "name": "stdout",
          "text": [
            "Valore: 1.0\n",
            "Ripetizioni: 37\n",
            "\n",
            "Valore: 0.99\n",
            "Ripetizioni: 90\n",
            "\n",
            "Valore: 0.98\n",
            "Ripetizioni: 92\n",
            "\n",
            "Valore: 0.97\n",
            "Ripetizioni: 93\n",
            "\n",
            "Valore: 0.96\n",
            "Ripetizioni: 59\n",
            "\n",
            "Valore: 0.95\n",
            "Ripetizioni: 33\n",
            "\n",
            "Valore: 0.94\n",
            "Ripetizioni: 6\n",
            "\n"
          ]
        }
      ]
    },
    {
      "cell_type": "code",
      "source": [
        "import pandas as pd\n",
        "\n",
        "# Leggi il file CSV\n",
        "df = pd.read_csv('microsoft.csv')\n",
        "\n",
        "# Crea un dizionario di mappatura per i valori\n",
        "mapping = {\n",
        "    1.0: 5,\n",
        "    0.99: 4,\n",
        "    0.98: 3,\n",
        "    0.97: 2,\n",
        "    0.96: 2,\n",
        "    0.95: 1,\n",
        "    0.94: 0\n",
        "}\n",
        "\n",
        "# Applica la mappatura alla colonna 'Cosine Similarity'\n",
        "df['Mapped Cosine Similarity'] = df['Cosine Similarity'].map(mapping)\n",
        "\n",
        "# Raggruppa per 'Mapped Cosine Similarity' e conta le occorrenze\n",
        "value_counts = df['Mapped Cosine Similarity'].value_counts().sort_index(ascending=False)\n",
        "\n",
        "# Visualizza i valori mappati e il numero di ripetizioni\n",
        "for value, count in value_counts.items():\n",
        "    print(f\"Valore Mappato: {value}\")\n",
        "    print(f\"Ripetizioni: {count}\\n\")"
      ],
      "metadata": {
        "colab": {
          "base_uri": "https://localhost:8080/"
        },
        "id": "SG1m7gO2Gv8p",
        "outputId": "a7d12e98-f3be-42f5-bf6b-01ecf4e6bacd"
      },
      "execution_count": null,
      "outputs": [
        {
          "output_type": "stream",
          "name": "stdout",
          "text": [
            "Valore Mappato: 5\n",
            "Ripetizioni: 37\n",
            "\n",
            "Valore Mappato: 4\n",
            "Ripetizioni: 90\n",
            "\n",
            "Valore Mappato: 3\n",
            "Ripetizioni: 92\n",
            "\n",
            "Valore Mappato: 2\n",
            "Ripetizioni: 152\n",
            "\n",
            "Valore Mappato: 1\n",
            "Ripetizioni: 33\n",
            "\n",
            "Valore Mappato: 0\n",
            "Ripetizioni: 6\n",
            "\n"
          ]
        }
      ]
    },
    {
      "cell_type": "code",
      "source": [
        "# Crea un nuovo DataFrame solo con la colonna mappata\n",
        "mapped_df = df[['Mapped Cosine Similarity']]\n",
        "\n",
        "# Salva il nuovo DataFrame in un file CSV\n",
        "mapped_df.to_csv('mapped_cosine_similarity15.csv', index=False)\n",
        "\n",
        "# Scarica il file CSV su Google Colab\n",
        "from google.colab import files\n",
        "files.download('mapped_cosine_similarity15.csv')"
      ],
      "metadata": {
        "colab": {
          "base_uri": "https://localhost:8080/",
          "height": 17
        },
        "id": "QdvbNkG5HaKz",
        "outputId": "8385317c-bf95-409b-9d1c-3a403caebc9a"
      },
      "execution_count": null,
      "outputs": [
        {
          "output_type": "display_data",
          "data": {
            "text/plain": [
              "<IPython.core.display.Javascript object>"
            ],
            "application/javascript": [
              "\n",
              "    async function download(id, filename, size) {\n",
              "      if (!google.colab.kernel.accessAllowed) {\n",
              "        return;\n",
              "      }\n",
              "      const div = document.createElement('div');\n",
              "      const label = document.createElement('label');\n",
              "      label.textContent = `Downloading \"${filename}\": `;\n",
              "      div.appendChild(label);\n",
              "      const progress = document.createElement('progress');\n",
              "      progress.max = size;\n",
              "      div.appendChild(progress);\n",
              "      document.body.appendChild(div);\n",
              "\n",
              "      const buffers = [];\n",
              "      let downloaded = 0;\n",
              "\n",
              "      const channel = await google.colab.kernel.comms.open(id);\n",
              "      // Send a message to notify the kernel that we're ready.\n",
              "      channel.send({})\n",
              "\n",
              "      for await (const message of channel.messages) {\n",
              "        // Send a message to notify the kernel that we're ready.\n",
              "        channel.send({})\n",
              "        if (message.buffers) {\n",
              "          for (const buffer of message.buffers) {\n",
              "            buffers.push(buffer);\n",
              "            downloaded += buffer.byteLength;\n",
              "            progress.value = downloaded;\n",
              "          }\n",
              "        }\n",
              "      }\n",
              "      const blob = new Blob(buffers, {type: 'application/binary'});\n",
              "      const a = document.createElement('a');\n",
              "      a.href = window.URL.createObjectURL(blob);\n",
              "      a.download = filename;\n",
              "      div.appendChild(a);\n",
              "      a.click();\n",
              "      div.remove();\n",
              "    }\n",
              "  "
            ]
          },
          "metadata": {}
        },
        {
          "output_type": "display_data",
          "data": {
            "text/plain": [
              "<IPython.core.display.Javascript object>"
            ],
            "application/javascript": [
              "download(\"download_70d58025-53fb-4095-bab1-49a46684d3f1\", \"mapped_cosine_similarity15.csv\", 845)"
            ]
          },
          "metadata": {}
        }
      ]
    }
  ]
}